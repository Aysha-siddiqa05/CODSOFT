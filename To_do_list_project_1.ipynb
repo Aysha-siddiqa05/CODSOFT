{
  "nbformat": 4,
  "nbformat_minor": 0,
  "metadata": {
    "colab": {
      "provenance": [],
      "authorship_tag": "ABX9TyMCkt3qI1DszhUYMd2xhZvO",
      "include_colab_link": true
    },
    "kernelspec": {
      "name": "python3",
      "display_name": "Python 3"
    },
    "language_info": {
      "name": "python"
    }
  },
  "cells": [
    {
      "cell_type": "markdown",
      "metadata": {
        "id": "view-in-github",
        "colab_type": "text"
      },
      "source": [
        "<a href=\"https://colab.research.google.com/github/Aysha-siddiqa05/To-do-list-/blob/main/To_do_list_project_1.ipynb\" target=\"_parent\"><img src=\"https://colab.research.google.com/assets/colab-badge.svg\" alt=\"Open In Colab\"/></a>"
      ]
    },
    {
      "cell_type": "code",
      "execution_count": null,
      "metadata": {
        "id": "i1eMtIE6YBZ7"
      },
      "outputs": [],
      "source": [
        "def main():\n",
        "    tasks = []\n",
        "\n",
        "    while True:\n",
        "        print(\"\\n===== To-Do List =====\")\n",
        "        print(\"1. Task\")\n",
        "        print(\"2. View Tasks\")\n",
        "        print(\"3. Task as Done\")\n",
        "        print(\"4. Exit\")\n",
        "\n",
        "        choice = input(\"Enter my choice: \")\n",
        "\n",
        "        if choice == '1':\n",
        "            print()\n",
        "            n_tasks = int(input(\"How may task i want to add: \"))\n",
        "\n",
        "            for i in range(n_tasks):\n",
        "                task = input(\"Task: \")\n",
        "                tasks.append({\"task\": task, \"done\": False})\n",
        "                print(\"Task added!\")\n",
        "\n",
        "        elif choice == '2':\n",
        "            print(\"\\nTasks:\")\n",
        "            for index, task in enumerate(tasks):\n",
        "                status = \"Done\" if task[\"done\"] else \"Not Done\"\n",
        "                print(f\"{index + 1}. {task['task']} - {status}\")\n",
        "\n",
        "        elif choice == '3':\n",
        "            task_index = int(input(\"Enter task number to mark as done: \")) - 1\n",
        "            if 0 <= task_index < len(tasks):\n",
        "                tasks[task_index][\"done\"] = True\n",
        "                print(\"marked as done!\")\n",
        "            else:\n",
        "                print(\"Invalid task number.\")\n",
        "\n",
        "        elif choice == '4':\n",
        "            print(\"Exit.\")\n",
        "            break\n",
        "\n",
        "        else:\n",
        "            print(\"Invalid choice. Please try again.\")\n",
        "\n",
        "if __name__ == \"__Aysha__\":\n",
        "    main(Aysha)"
      ]
    },
    {
      "cell_type": "code",
      "source": [],
      "metadata": {
        "id": "ELnx_9INd_az"
      },
      "execution_count": null,
      "outputs": []
    },
    {
      "cell_type": "code",
      "source": [],
      "metadata": {
        "id": "rW8OLuMrcIlt"
      },
      "execution_count": null,
      "outputs": []
    },
    {
      "cell_type": "code",
      "source": [],
      "metadata": {
        "id": "jt1LnboxcJHx"
      },
      "execution_count": null,
      "outputs": []
    }
  ]
}