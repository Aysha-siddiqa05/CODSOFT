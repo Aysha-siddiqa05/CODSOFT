{
  "nbformat": 4,
  "nbformat_minor": 0,
  "metadata": {
    "colab": {
      "provenance": [],
      "authorship_tag": "ABX9TyPk3YKFF4Hq/5gije/sp5TN",
      "include_colab_link": true
    },
    "kernelspec": {
      "name": "python3",
      "display_name": "Python 3"
    },
    "language_info": {
      "name": "python"
    }
  },
  "cells": [
    {
      "cell_type": "markdown",
      "metadata": {
        "id": "view-in-github",
        "colab_type": "text"
      },
      "source": [
        "<a href=\"https://colab.research.google.com/github/Aysha-siddiqa05/To-do-list-/blob/main/Game_project_2.ipynb\" target=\"_parent\"><img src=\"https://colab.research.google.com/assets/colab-badge.svg\" alt=\"Open In Colab\"/></a>"
      ]
    },
    {
      "cell_type": "code",
      "source": [
        "import random\n",
        "\n",
        "print(\"\\nLet's play Rock-Paper-Scissors!\")\n",
        "choices = [\"rock\", \"paper\", \"scissors\"]\n",
        "\n",
        "while True:\n",
        "    user_choice = input(\"Choose Rock, Paper, or Scissors\").strip().lower()\n",
        "    if user_choice in choices:\n",
        "               computer_choice = random.choice(choices)\n",
        "\n",
        "\n",
        "               if user_choice == computer_choice:\n",
        "                  print(\"It's a tie!\")\n",
        "               elif (\n",
        "                    (user_choice == \"rock\" and computer_choice == \"scissors\")or\n",
        "                    (user_choice == \"paper\" and computer_choice == \"rock\")or\n",
        "                    (user_choice == \"scissors\" and computer_choice == \"paper\")\n",
        "                     ):\n",
        "                     print(\"You win!\")"
      ],
      "metadata": {
        "id": "dWDyWuOziBVo",
        "colab": {
          "base_uri": "https://localhost:8080/"
        },
        "outputId": "dd574eb5-c000-4f86-b04e-d61412121132"
      },
      "execution_count": null,
      "outputs": [
        {
          "output_type": "stream",
          "name": "stdout",
          "text": [
            "\n",
            "Let's play Rock-Paper-Scissors!\n"
          ]
        }
      ]
    }
  ]
}